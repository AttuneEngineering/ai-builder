{
 "cells": [
  {
   "cell_type": "code",
   "execution_count": 1,
   "metadata": {},
   "outputs": [
    {
     "name": "stderr",
     "output_type": "stream",
     "text": [
      "None of PyTorch, TensorFlow >= 2.0, or Flax have been found. Models won't be available and only tokenizers, configuration and file/data utilities can be used.\n"
     ]
    }
   ],
   "source": [
    "import sys\n",
    "import tqdm\n",
    "\n",
    "sys.path.append('/workspace/ai-builder/src')\n",
    "from assistant import *\n",
    "from bin.utilities import *\n"
   ]
  },
  {
   "cell_type": "code",
   "execution_count": 2,
   "metadata": {},
   "outputs": [
    {
     "name": "stdout",
     "output_type": "stream",
     "text": [
      "Connecting to LLM APIs...\n",
      "=> Agent Model: gpt-4-1106-preview\n",
      "=> Vision Model: gpt-4-vision-preview\n",
      "=> Instruct Model: gpt-4-1106-preview\n"
     ]
    }
   ],
   "source": [
    "# ### INITIALIZATION\n",
    "assistant = DigitalAgent(try_self_hosted=False, verbose=True)\n",
    "# user_json = {\n",
    "#     \"full_name\": \"Reed\",\n",
    "#     \"username\": \"rbender\",\n",
    "#     \"question\": \"Teach me about cancer\"\n",
    "# }\n",
    "\n",
    "# ### ANSWER QUESTION\n",
    "# assistant.personalize_message_thread(user_json)\n",
    "# agent_response = assistant.Instruct.text_completion()"
   ]
  },
  {
   "cell_type": "code",
   "execution_count": null,
   "metadata": {},
   "outputs": [],
   "source": [
    "assistant.Vision.vision_completion(\n",
    "    question=\"What is the cognitive light cone?\",\n",
    "    image_path=\"/workspace/indra/cognitive-light-cone.png\"\n",
    ")"
   ]
  },
  {
   "cell_type": "code",
   "execution_count": null,
   "metadata": {},
   "outputs": [],
   "source": []
  },
  {
   "cell_type": "code",
   "execution_count": null,
   "metadata": {},
   "outputs": [],
   "source": []
  },
  {
   "cell_type": "code",
   "execution_count": null,
   "metadata": {},
   "outputs": [],
   "source": []
  },
  {
   "cell_type": "code",
   "execution_count": null,
   "metadata": {},
   "outputs": [],
   "source": [
    "# function_json = {\n",
    "#     \"name\": \"search_scientific_literature\",\n",
    "#     \"arguments\": {\n",
    "#         \"question\": \"liver disease\",\n",
    "#         \"source\": \"pubmed\"\n",
    "#     }\n",
    "# }\n",
    "# jsonresponse = assistant.Toolkit.execute_function_call(function_json, assistant.Toolkit.load_tools())\n",
    "\n",
    "# jsonresponse = {'Mechanisms Underlying Influence of Bioelectricity in ...': {'snippet': 'Evidence supports bioelectricity contributing to development through multiple different mechanisms. Here, we review evidence for the importance ...',\n",
    "#   'link': 'https://pubmed.ncbi.nlm.nih.gov/35237593/'},\n",
    "#  'From the subcellular level to cells': {'snippet': 'Bioelectricity plays an essential role in the structural and functional organization of biological organisms. In this first article of our three ...',\n",
    "#   'link': 'https://pubmed.ncbi.nlm.nih.gov/36481271/'},\n",
    "#  'Nanotechnology and Cancer Bioelectricity: Bridging the ...': {'snippet': 'Bioelectricity is the electrical activity that occurs within living cells and tissues. This activity is critical for regulating homeostatic ...',\n",
    "#   'link': 'https://pubmed.ncbi.nlm.nih.gov/37984883/'}}\n",
    "# new = json.loads(jsonresponse)"
   ]
  },
  {
   "cell_type": "code",
   "execution_count": null,
   "metadata": {},
   "outputs": [],
   "source": []
  },
  {
   "cell_type": "code",
   "execution_count": null,
   "metadata": {},
   "outputs": [],
   "source": []
  }
 ],
 "metadata": {
  "kernelspec": {
   "display_name": "Python 3 (ipykernel)",
   "language": "python",
   "name": "python3"
  },
  "language_info": {
   "codemirror_mode": {
    "name": "ipython",
    "version": 3
   },
   "file_extension": ".py",
   "mimetype": "text/x-python",
   "name": "python",
   "nbconvert_exporter": "python",
   "pygments_lexer": "ipython3",
   "version": "3.9.18"
  }
 },
 "nbformat": 4,
 "nbformat_minor": 4
}
