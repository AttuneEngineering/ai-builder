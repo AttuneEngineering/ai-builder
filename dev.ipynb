{
 "cells": [
  {
   "cell_type": "markdown",
   "metadata": {},
   "source": [
    "# AI Builder\n",
    "#### by [Attune Engineering](https://attuneengineering.com)"
   ]
  },
  {
   "cell_type": "code",
   "execution_count": 1,
   "metadata": {},
   "outputs": [
    {
     "name": "stderr",
     "output_type": "stream",
     "text": [
      "None of PyTorch, TensorFlow >= 2.0, or Flax have been found. Models won't be available and only tokenizers, configuration and file/data utilities can be used.\n"
     ]
    }
   ],
   "source": [
    "import sys\n",
    "import tqdm\n",
    "\n",
    "sys.path.append('/workspace/ai-builder/src')\n",
    "from bin.utilities import *\n",
    "from builder import AIBuilder"
   ]
  },
  {
   "cell_type": "code",
   "execution_count": 2,
   "metadata": {},
   "outputs": [
    {
     "name": "stdout",
     "output_type": "stream",
     "text": [
      "[Success] Connected to the GPT4_Instruct API.\n",
      "[Success] Connected to the GPT4_Vision API.\n",
      "[Success] Connected to your Mixtral8x7B_Instruct API.\n",
      "[Success] Connected to your LLaVA_7B_Vision API.\n"
     ]
    }
   ],
   "source": [
    "#############################\n",
    "### INSTRUCTION FOLLOWING ###\n",
    "#############################\n",
    "\n",
    "### INITIALIZATION\n",
    "builder = AIBuilder()\n",
    "question = \"What's your name?\"\n",
    "\n",
    "### MODELS\n",
    "# response, metadata = builder.GPT4_Instruct.ask(question)\n",
    "# response, metadata = builder.Mixtral8x7B_Instruct.ask(question)"
   ]
  },
  {
   "cell_type": "code",
   "execution_count": 3,
   "metadata": {},
   "outputs": [
    {
     "name": "stdout",
     "output_type": "stream",
     "text": [
      "[Success] Connected to the GPT4_Instruct API.\n",
      "[Success] Connected to the GPT4_Vision API.\n",
      "[Success] Connected to your Mixtral8x7B_Instruct API.\n",
      "[Success] Connected to your LLaVA_7B_Vision API.\n"
     ]
    }
   ],
   "source": [
    "#########################\n",
    "### MULTIMODAL VISION ###\n",
    "#########################\n",
    "\n",
    "### INITIALIZATION\n",
    "builder = AIBuilder()\n",
    "question = \"What insights can be derived from this diagram?\"\n",
    "image_path = \"/workspace/ai-builder/assets/images/cognitive-light-cone.png\"\n",
    "\n",
    "### ANSWER QUESTION\n",
    "# response, metadata = builder.GPT4_Vision.ask(question, image_path)\n",
    "# response, metadata = builder.LLaVA_7B_Vision.ask(question, image_path)"
   ]
  },
  {
   "cell_type": "code",
   "execution_count": null,
   "metadata": {},
   "outputs": [],
   "source": []
  },
  {
   "cell_type": "code",
   "execution_count": null,
   "metadata": {},
   "outputs": [],
   "source": []
  },
  {
   "cell_type": "code",
   "execution_count": null,
   "metadata": {},
   "outputs": [],
   "source": []
  },
  {
   "cell_type": "code",
   "execution_count": null,
   "metadata": {},
   "outputs": [],
   "source": []
  },
  {
   "cell_type": "code",
   "execution_count": null,
   "metadata": {},
   "outputs": [],
   "source": []
  },
  {
   "cell_type": "code",
   "execution_count": null,
   "metadata": {},
   "outputs": [],
   "source": []
  }
 ],
 "metadata": {
  "kernelspec": {
   "display_name": "Python 3 (ipykernel)",
   "language": "python",
   "name": "python3"
  },
  "language_info": {
   "codemirror_mode": {
    "name": "ipython",
    "version": 3
   },
   "file_extension": ".py",
   "mimetype": "text/x-python",
   "name": "python",
   "nbconvert_exporter": "python",
   "pygments_lexer": "ipython3",
   "version": "3.9.18"
  }
 },
 "nbformat": 4,
 "nbformat_minor": 4
}
