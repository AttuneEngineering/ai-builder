{
 "cells": [
  {
   "cell_type": "markdown",
   "metadata": {},
   "source": [
    "# AI Builder\n",
    "#### by [Attune Engineering](https://attuneengineering.com)"
   ]
  },
  {
   "cell_type": "code",
   "execution_count": 1,
   "metadata": {},
   "outputs": [
    {
     "name": "stderr",
     "output_type": "stream",
     "text": [
      "None of PyTorch, TensorFlow >= 2.0, or Flax have been found. Models won't be available and only tokenizers, configuration and file/data utilities can be used.\n"
     ]
    }
   ],
   "source": [
    "import sys\n",
    "import tqdm\n",
    "\n",
    "sys.path.append('/workspace/ai-builder/src')\n",
    "from bin.utilities import *\n",
    "from builder import AIBuilder"
   ]
  },
  {
   "cell_type": "code",
   "execution_count": 2,
   "metadata": {},
   "outputs": [
    {
     "name": "stdout",
     "output_type": "stream",
     "text": [
      "[Success] Connected to the GPT4_Instruct API.\n",
      "[Success] Connected to the GPT4_Vision API.\n"
     ]
    },
    {
     "data": {
      "text/markdown": [
       "<span style='color: red;'># DIGITAL AGENT<br>You are a helpful assistant. You should respond to the user question to the best of your ability without making up any information.<br>---<br><br>## FORMATTING<br>Please format your final answer as with Markdown syntax and emojis sparingly where appropriate.<br>---</span>"
      ],
      "text/plain": [
       "<IPython.core.display.Markdown object>"
      ]
     },
     "metadata": {},
     "output_type": "display_data"
    },
    {
     "data": {
      "text/markdown": [
       "<span style='color: green;'>What's your name?</span>"
      ],
      "text/plain": [
       "<IPython.core.display.Markdown object>"
      ]
     },
     "metadata": {},
     "output_type": "display_data"
    },
    {
     "data": {
      "text/markdown": [
       "<span style='color: blue;'>I don't have a personal name, but you can call me Assistant! How can I help you today?</span>"
      ],
      "text/plain": [
       "<IPython.core.display.Markdown object>"
      ]
     },
     "metadata": {},
     "output_type": "display_data"
    },
    {
     "name": "stdout",
     "output_type": "stream",
     "text": [
      "Total Time Taken: 2.30 seconds\n",
      "Tokens per Second: 9.57\n"
     ]
    }
   ],
   "source": [
    "#############################\n",
    "### INSTRUCTION FOLLOWING ###\n",
    "#############################\n",
    "\n",
    "### INITIALIZATION\n",
    "builder = AIBuilder()\n",
    "question = \"What's your name?\"\n",
    "\n",
    "### MODELS\n",
    "response, metadata = builder.GPT4_Instruct.ask(question)\n",
    "# response = builder.Mixtral7x8B_Instruct.ask(question)"
   ]
  },
  {
   "cell_type": "code",
   "execution_count": 3,
   "metadata": {},
   "outputs": [
    {
     "data": {
      "text/plain": [
       "{'time (s)': 2.3,\n",
       " 'ingress_tokens': 81,\n",
       " 'egress_tokens': 22,\n",
       " 'tokens_per_second': 9.57,\n",
       " 'cost ($)': 0.0015,\n",
       " 'model': 'gpt-4-0125-preview'}"
      ]
     },
     "execution_count": 3,
     "metadata": {},
     "output_type": "execute_result"
    }
   ],
   "source": [
    "metadata"
   ]
  },
  {
   "cell_type": "code",
   "execution_count": null,
   "metadata": {},
   "outputs": [],
   "source": [
    "#########################\n",
    "### MULTIMODAL VISION ###\n",
    "#########################\n",
    "\n",
    "### INITIALIZATION\n",
    "# builder = AIBuilder()\n",
    "# question = \"What is the cognitive light cone?\"\n",
    "# image_path = \"/workspace/ai-builder/assets/images/cognitive-light-cone.png\"\n",
    "\n",
    "### ANSWER QUESTION\n",
    "# response = builder.GPT4_Vision.ask(question, image_path)\n",
    "# response = builder.LLaVA_Vision.ask(question, image_path)"
   ]
  },
  {
   "cell_type": "code",
   "execution_count": null,
   "metadata": {},
   "outputs": [],
   "source": []
  }
 ],
 "metadata": {
  "kernelspec": {
   "display_name": "Python 3 (ipykernel)",
   "language": "python",
   "name": "python3"
  },
  "language_info": {
   "codemirror_mode": {
    "name": "ipython",
    "version": 3
   },
   "file_extension": ".py",
   "mimetype": "text/x-python",
   "name": "python",
   "nbconvert_exporter": "python",
   "pygments_lexer": "ipython3",
   "version": "3.9.18"
  }
 },
 "nbformat": 4,
 "nbformat_minor": 4
}
