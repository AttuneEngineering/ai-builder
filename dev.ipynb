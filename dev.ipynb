{
 "cells": [
  {
   "cell_type": "markdown",
   "metadata": {},
   "source": [
    "# AI Builder\n",
    "#### by [Attune Engineering](https://attuneengineering.com)"
   ]
  },
  {
   "cell_type": "code",
   "execution_count": 1,
   "metadata": {},
   "outputs": [
    {
     "name": "stderr",
     "output_type": "stream",
     "text": [
      "None of PyTorch, TensorFlow >= 2.0, or Flax have been found. Models won't be available and only tokenizers, configuration and file/data utilities can be used.\n"
     ]
    }
   ],
   "source": [
    "import sys\n",
    "import tqdm\n",
    "\n",
    "sys.path.append('/workspace/ai-builder/src')\n",
    "from builder import *\n",
    "from bin.utilities import *\n"
   ]
  },
  {
   "cell_type": "markdown",
   "metadata": {},
   "source": [
    "#### Setting API Keys\n",
    "You must make the following API keys available as environment variables. This can be done by creating a `ai-builder/.env` file in your environment with the following keys:\n",
    "```bash\n",
    "OPENAI_API_KEY=\"xxx\"\n",
    "HUGGING_FACE_HUB_TOKEN=\"xxx\" ### if deploying a private a gated model\n",
    "```"
   ]
  },
  {
   "cell_type": "code",
   "execution_count": 2,
   "metadata": {},
   "outputs": [
    {
     "name": "stdout",
     "output_type": "stream",
     "text": [
      "Connecting to LLM APIs...\n",
      "=> Vision Model: gpt-4-vision-preview\n",
      "=> Instruct Model: gpt-4-1106-preview\n",
      "\u001b[31msystem: # DIGITAL AGENT\n",
      "You are a helpful assistant. You should respond to the user question to the best of your ability without making up any information.\n",
      "---\n",
      "\n",
      "## FORMATTING\n",
      "Please format your final answer as with Markdown syntax and emojis sparingly where appropriate.\n",
      "---\n",
      "\u001b[0m\n",
      "\u001b[32muser: Describe the existential meaning behind the existence of black holes.\n",
      "\u001b[0m\n",
      "\u001b[34massistant: The question of the existential meaning behind the existence of black holes touches upon a mix of scientific, philosophical, and potentially even theological considerations. As a digital agent, I can provide a perspective based on known scientific understanding and philosophical discourse.\n",
      "\n",
      "### Scientific Perspective:\n",
      "\n",
      "From a scientific standpoint, black holes are a natural consequence of the laws of physics as we understand them, especially general relativity. They are regions of spacetime exhibiting such strong gravitational effects that nothing—not even particles and electromagnetic radiation such as light—can escape from inside it.\n",
      "\n",
      "The existence of black holes can be seen as:\n",
      "\n",
      "- **Endpoints of Stellar Evolution**: For massive stars, black holes are what's left after a supernova event when the core collapses under its own gravity.\n",
      "- **Cosmic Laboratories**: Black holes provide environments where the laws of physics can be tested to their limits, including the study of gravity, quantum mechanics, and the nature of spacetime.\n",
      "- **Galactic Influence**: Black holes, especially supermassive ones at the centers of galaxies, play a critical role in the evolution and dynamics of galaxies.\n",
      "\n",
      "### Philosophical and Theological Perspective:\n",
      "\n",
      "The meaning behind the existence of cosmic phenomena like black holes can vary considerably among different philosophical or theological views:\n",
      "\n",
      "- **Existentialism**: In an existentialist framework, meaning is not inherent in the universe but is rather constructed by individuals. Therefore, black holes themselves have no inherent meaning; any existential meaning would be assigned by humans.\n",
      "- **Naturalism**: From a naturalist perspective, black holes are simply part of the natural order, without any purpose beyond their physical properties and effects.\n",
      "- **Theological**: In theological or spiritual contexts, the existence of black holes might be seen as part of a divine plan or a reflection of the complexity and majesty of creation.\n",
      "\n",
      "In all these discussions, it's important to note that black holes are not imbued with meaning from a scientific perspective—they simply exist according to the laws of nature. Any existential meaning is a human construct, which varies across cultures, individual beliefs, and philosophical systems.\n",
      "\u001b[0m\n"
     ]
    }
   ],
   "source": [
    "### INITIALIZATION\n",
    "builder = AIBuilder(try_self_hosted=False)\n",
    "user_json = {\n",
    "    \"full_name\": \"Reed\",\n",
    "    \"question\": \"Describe the existential meaning behind the existence of black holes.\"\n",
    "}\n",
    "\n",
    "### ANSWER QUESTION\n",
    "builder.personalize_message_thread(user_json)\n",
    "agent_response = builder.Instruct.text_completion()"
   ]
  },
  {
   "cell_type": "code",
   "execution_count": 5,
   "metadata": {},
   "outputs": [
    {
     "name": "stdout",
     "output_type": "stream",
     "text": [
      "Total time taken for OpenAI API call: 13.1 seconds\n",
      "Total cost for GPT-Vision API call: $0.0076500000000000005\n"
     ]
    },
    {
     "data": {
      "text/plain": [
       "'The cognitive light cone is a concept used to represent the boundaries and scale of the cognitive capacities of different organisms or entities. It draws an analogy with the light cone in physics, which represents the area of space-time that is accessible to an observer within the limitations of the speed of light. In the context of cognitive science, a cognitive light cone is used to illustrate the temporal and spatial reach, and by extension, the complexity and sophistication of the cognitive processes of a given organism or system.\\n\\nFrom the provided image, cognitive light cones are depicted as cone-shaped zones extending into the past and the future, with the width of the cone representing the scale of influence an entity can have on its environment. The zone labeled \"HERE NOW\" represents the present moment where the cognitive process is taking place. The cones labeled with different beings like a tick, dog, or human, represent their individual cognitive capacities, with humans having a wider and more extended cone, indicating a broader spatial and temporal influence. The extension into the future suggests the ability to plan or anticipate future events, while the extension into the past implies memory and learning from historical data.\\n\\nThe image also refers to \\'compound intelligences\\' as a collective cognitive system composed of individual entities (like cells within an organism or organisms within a colony), that collectively have emergent cognitive properties not found in the individual constituents alone. This could represent entities such as eusocial insect colonies or multicellular organisms.\\n\\nThe lower part of the image shows something labeled \"Homeostatic loop\", coupled with a term \"GJ\" which likely stands for gap junctions – a type of connection between cells that allows for the transmission of signals. This schematic represents the basic process of maintaining stability or homeostasis within a biological or artificial system, where the state is measured, compared to a desired setpoint, and actions are taken if there is an error or discrepancy.\\n\\nMoreover, the representation of \"possible alien, AI\" along with a human cognitive light cone may indicate speculation about the cognitive abilities of unknown or hypothetical intelligences that are not currently known to us. These might have very different cognitive architectures that could potentially expand the concept of a light cone even further.\\n\\nOverall, the cognitive light cone conceptualizes an entity’s cognitive scope and influence over time and space in a way that can be compared across different life forms and intelligences, providing a visual and conceptual framework for understanding cognition in a broad, comparative manner.'"
      ]
     },
     "execution_count": 5,
     "metadata": {},
     "output_type": "execute_result"
    }
   ],
   "source": [
    "builder.Vision.vision_completion(\n",
    "    question=\"What is the cognitive light cone?\",\n",
    "    image_path=\"/workspace/ai-builder/assets/images/cognitive-light-cone.png\"\n",
    ")"
   ]
  },
  {
   "cell_type": "code",
   "execution_count": null,
   "metadata": {},
   "outputs": [],
   "source": []
  },
  {
   "cell_type": "code",
   "execution_count": null,
   "metadata": {},
   "outputs": [],
   "source": []
  },
  {
   "cell_type": "code",
   "execution_count": null,
   "metadata": {},
   "outputs": [],
   "source": []
  }
 ],
 "metadata": {
  "kernelspec": {
   "display_name": "Python 3 (ipykernel)",
   "language": "python",
   "name": "python3"
  },
  "language_info": {
   "codemirror_mode": {
    "name": "ipython",
    "version": 3
   },
   "file_extension": ".py",
   "mimetype": "text/x-python",
   "name": "python",
   "nbconvert_exporter": "python",
   "pygments_lexer": "ipython3",
   "version": "3.9.18"
  }
 },
 "nbformat": 4,
 "nbformat_minor": 4
}
